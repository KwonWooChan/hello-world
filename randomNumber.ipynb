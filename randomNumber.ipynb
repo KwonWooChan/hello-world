{
  "nbformat": 4,
  "nbformat_minor": 0,
  "metadata": {
    "colab": {
      "name": "Untitled2.ipynb",
      "provenance": [],
      "authorship_tag": "ABX9TyN4XFWdVC6c7/Eq0oIbRxwG",
      "include_colab_link": true
    },
    "kernelspec": {
      "name": "python3",
      "display_name": "Python 3"
    }
  },
  "cells": [
    {
      "cell_type": "markdown",
      "metadata": {
        "id": "view-in-github",
        "colab_type": "text"
      },
      "source": [
        "<a href=\"https://colab.research.google.com/github/KwonWooChan/hello-world/blob/master/randomNumber.ipynb\" target=\"_parent\"><img src=\"https://colab.research.google.com/assets/colab-badge.svg\" alt=\"Open In Colab\"/></a>"
      ]
    },
    {
      "cell_type": "code",
      "metadata": {
        "id": "eTvsKEgpzxR8",
        "colab_type": "code",
        "colab": {
          "base_uri": "https://localhost:8080/",
          "height": 34
        },
        "outputId": "b7a6d78d-64f0-46a0-afb9-72dde4d53b42"
      },
      "source": [
        "print(\"hello\")"
      ],
      "execution_count": null,
      "outputs": [
        {
          "output_type": "stream",
          "text": [
            "hello\n"
          ],
          "name": "stdout"
        }
      ]
    },
    {
      "cell_type": "code",
      "metadata": {
        "id": "D0e4vjAbz8Ah",
        "colab_type": "code",
        "colab": {
          "base_uri": "https://localhost:8080/",
          "height": 215
        },
        "outputId": "5c7c6786-1dec-40d2-a0e2-e96acee64e8c"
      },
      "source": [
        "import random\n",
        "max = int(input(\"끝번호를 입력하세요 : \"))\n",
        "\n",
        "students = []\n",
        "\n",
        "for a in range(0,max):\n",
        "  students.append(a+1);\n",
        "\n",
        "random.shuffle(students)\n",
        "for a in range(max):\n",
        "  print(students[0])\n",
        "  del students[0]\n",
        "  if(students.)"
      ],
      "execution_count": 9,
      "outputs": [
        {
          "output_type": "stream",
          "text": [
            "끝번호를 입력하세요 : 5\n",
            "5\n",
            "종료하려면 0 :\n",
            "4\n",
            "종료하려면 0 :\n",
            "2\n",
            "종료하려면 0 :\n",
            "3\n",
            "종료하려면 0 :\n",
            "1\n",
            "종료하려면 0 :\n"
          ],
          "name": "stdout"
        }
      ]
    },
    {
      "cell_type": "code",
      "metadata": {
        "id": "Dm8z9kGT143p",
        "colab_type": "code",
        "colab": {
          "base_uri": "https://localhost:8080/",
          "height": 34
        },
        "outputId": "e32ef31d-9c15-461b-849d-cc5c6d62f056"
      },
      "source": [
        "del students[0]\n",
        "students"
      ],
      "execution_count": null,
      "outputs": [
        {
          "output_type": "execute_result",
          "data": {
            "text/plain": [
              "[5, 8, 10, 6, 1, 3, 4, 9]"
            ]
          },
          "metadata": {
            "tags": []
          },
          "execution_count": 13
        }
      ]
    }
  ]
}