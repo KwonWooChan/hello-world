{
  "nbformat": 4,
  "nbformat_minor": 0,
  "metadata": {
    "colab": {
      "name": "Untitled2.ipynb",
      "provenance": [],
      "authorship_tag": "ABX9TyO0eFDXEPQ5TXP0exczr48F",
      "include_colab_link": true
    },
    "kernelspec": {
      "name": "python3",
      "display_name": "Python 3"
    }
  },
  "cells": [
    {
      "cell_type": "markdown",
      "metadata": {
        "id": "view-in-github",
        "colab_type": "text"
      },
      "source": [
        "<a href=\"https://colab.research.google.com/github/KwonWooChan/hello-world/blob/master/randomNumber.ipynb\" target=\"_parent\"><img src=\"https://colab.research.google.com/assets/colab-badge.svg\" alt=\"Open In Colab\"/></a>"
      ]
    },
    {
      "cell_type": "code",
      "metadata": {
        "id": "eTvsKEgpzxR8",
        "colab_type": "code",
        "colab": {
          "base_uri": "https://localhost:8080/",
          "height": 34
        },
        "outputId": "b7a6d78d-64f0-46a0-afb9-72dde4d53b42"
      },
      "source": [
        "print(\"hello\")"
      ],
      "execution_count": null,
      "outputs": [
        {
          "output_type": "stream",
          "text": [
            "hello\n"
          ],
          "name": "stdout"
        }
      ]
    },
    {
      "cell_type": "code",
      "metadata": {
        "id": "D0e4vjAbz8Ah",
        "colab_type": "code",
        "colab": {
          "base_uri": "https://localhost:8080/",
          "height": 617
        },
        "outputId": "72343b37-f093-498d-86a1-6d3925638873"
      },
      "source": [
        "import random\n",
        "from IPython.display import clear_output\n",
        "max = int(input(\"끝번호를 입력하세요 : \"))\n",
        "students = []\n",
        "\n",
        "for a in range(0,max):\n",
        "  students.append(a+1);\n",
        "\n",
        "print(\"\\n========================\")\n",
        "random.shuffle(students)\n",
        "for a in range(max): \n",
        "  groupNumb = int(input(\"몇 명이 발표하나요?   \"))\n",
        "  print(\"\\n\")\n",
        "  for an in range(groupNumb) : \n",
        "    print(students[0],end=' ')\n",
        "    del students[0]\n",
        "    if(len(students) == 0):\n",
        "      break;\n",
        "  \n",
        "  print(\"\\n\\n총 인원 \", max, \" / 남은 인원 \", len(students))\n",
        "  print(\"\\n\\n\\n========================\")\n",
        "  if(len(students) == 0):\n",
        "    break;"
      ],
      "execution_count": 15,
      "outputs": [
        {
          "output_type": "stream",
          "text": [
            "끝번호를 입력하세요 : 10\n",
            "\n",
            "========================\n",
            "1 단원 발표 :  몇 명인가요?   3\n",
            "\n",
            "\n",
            "5 7 10 \n",
            "\n",
            "총 인원  10  / 남은 인원  7\n",
            "\n",
            "\n",
            "\n",
            "========================\n",
            "2 단원 발표 :  몇 명인가요?   4\n",
            "\n",
            "\n",
            "6 1 8 3 \n",
            "\n",
            "총 인원  10  / 남은 인원  3\n",
            "\n",
            "\n",
            "\n",
            "========================\n",
            "3 단원 발표 :  몇 명인가요?   3\n",
            "\n",
            "\n",
            "9 4 2 \n",
            "\n",
            "총 인원  10  / 남은 인원  0\n",
            "\n",
            "\n",
            "\n",
            "========================\n"
          ],
          "name": "stdout"
        }
      ]
    },
    {
      "cell_type": "code",
      "metadata": {
        "id": "Dm8z9kGT143p",
        "colab_type": "code",
        "colab": {
          "base_uri": "https://localhost:8080/",
          "height": 35
        },
        "outputId": "7a555635-11bc-4ba1-e524-9756510f22c8"
      },
      "source": [
        "import urllib.request\n",
        "\n",
        "urllib.request.urlretrieve(\"data:image/jpeg;base64,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\", \"local-filename.jpg\")"
      ],
      "execution_count": null,
      "outputs": [
        {
          "output_type": "execute_result",
          "data": {
            "text/plain": [
              "('local-filename.jpg', <email.message.Message at 0x7fc829768f28>)"
            ]
          },
          "metadata": {
            "tags": []
          },
          "execution_count": 13
        }
      ]
    }
  ]
}